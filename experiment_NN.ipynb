{
 "cells": [
  {
   "cell_type": "code",
   "execution_count": 1,
   "id": "723c963d-1180-4fb5-8bae-413a4a8d16d6",
   "metadata": {
    "tags": []
   },
   "outputs": [
    {
     "data": {
      "text/plain": [
       "<module '_experiment' from '/home/ec2-user/SageMaker/ADA/_experiment.py'>"
      ]
     },
     "execution_count": 1,
     "metadata": {},
     "output_type": "execute_result"
    }
   ],
   "source": [
    "from _util import *\n",
    "os.environ[\"OMP_NUM_THREADS\"] = \"1\"\n",
    "os.environ[\"MKL_NUM_THREADS\"] = \"1\"\n",
    "os.environ[\"OPENBLAS_NUM_THREADS\"] = \"1\"\n",
    "os.environ[\"VECLIB_MAXIMUM_THREADS\"] = \"1\"\n",
    "os.environ[\"NUMEXPR_NUM_THREADS\"] = \"1\"\n",
    "\n",
    "import _experiment as _experiment\n",
    "reload(_experiment)"
   ]
  },
  {
   "cell_type": "code",
   "execution_count": null,
   "id": "70304f19-196e-42e4-ae27-d330eb2600d6",
   "metadata": {},
   "outputs": [],
   "source": [
    "M = 50\n",
    "K = 5\n",
    "N = 50\n",
    "T = 50\n",
    "B_min = 20\n",
    "B_max = 30\n",
    "simga_eps = 1\n",
    "dm = 1\n",
    "dk = 2\n",
    "sigma_ms = [.5, .75, 1]\n",
    "\n",
    "t0 = now()\n",
    "sigma = 1\n",
    "order = \"concurrent\"\n",
    "for order in [\"concurrent\", \"sequential\"]:\n",
    "    for sigma_m in sigma_ms:\n",
    "        reload(_experiment)\n",
    "        run = _experiment.run_experiment(M, K, N, T, B_min, B_max, sigma_m, simga_eps, \n",
    "                                         dm = dm, dk = dk, with_intercept = False, mu_gamma_factor = 0,\n",
    "                                         Sigma_gamma_factor = 'identity', Sigma_xm_factor = 1, Sigma_xk_factor = 1,\n",
    "                                         order = order, env_setting = \"NN\", save_prefix = 'NN',augment_size1 = 30,\n",
    "                                         NN_m = 12, NN_L = 2, NN_reg = 1, NN_nu = 1, exp_episode = 2, lr = 10**(-2))\n",
    "        r = run.run_multiple_parallel(100, 2)\n",
    "        run.plot_regret()\n",
    "        run.save(sub_folder = [\"M\", \"K\", \"N\", \"T\", \"dm\", \"dk\", \"sigma_m\",\"order\"])\n",
    "t = now() - t0"
   ]
  },
  {
   "cell_type": "code",
   "execution_count": null,
   "id": "3ebb41aa-12b8-46fc-855d-9cfd7ec84148",
   "metadata": {},
   "outputs": [],
   "source": [
    "M = 100\n",
    "K = 10\n",
    "N = 50\n",
    "T = 50\n",
    "B_min = 20\n",
    "B_max = 30\n",
    "simga_eps = 1\n",
    "dm = 1\n",
    "dk = 2\n",
    "sigma_ms = [.5]\n",
    "\n",
    "t0 = now()\n",
    "sigma = 1\n",
    "order = \"concurrent\"\n",
    "for lr in [10**(-2)]:\n",
    "    for sigma_m in sigma_ms:\n",
    "        reload(_experiment)\n",
    "        run = _experiment.run_experiment(M, K, N, T, B_min, B_max, sigma_m, simga_eps, \n",
    "                                         dm = dm, dk = dk, with_intercept = False, mu_gamma_factor = 0,\n",
    "                                         Sigma_gamma_factor = 'identity', Sigma_xm_factor = 1, Sigma_xk_factor = 1,\n",
    "                                         order = order, env_setting = \"NN\", save_prefix = 'NN',augment_size1 = 30,\n",
    "                                         NN_m = 12, NN_L = 2, NN_reg = 1, NN_nu = 1, exp_episode = 2)\n",
    "        r = run.run_multiple_parallel(100, 2)\n",
    "        run.plot_regret()\n",
    "        run.save(sub_folder = [\"M\", \"K\", \"N\", \"T\", \"dm\", \"dk\", \"sigma_m\",\"order\"])\n",
    "t = now() - t0"
   ]
  },
  {
   "cell_type": "code",
   "execution_count": null,
   "id": "4e059300-1e8b-48a4-b2a6-5156f85a3071",
   "metadata": {},
   "outputs": [],
   "source": [
    "M = 100\n",
    "K = 10\n",
    "N = 50\n",
    "T = 50\n",
    "B_min = 20\n",
    "B_max = 30\n",
    "simga_eps = 1\n",
    "dm = 2\n",
    "dk = 3\n",
    "sigma_ms = [.5]\n",
    "\n",
    "t0 = now()\n",
    "sigma = 1\n",
    "order = \"concurrent\"\n",
    "for lr in [10**(-2)]:\n",
    "    for sigma_m in sigma_ms:\n",
    "        reload(_experiment)\n",
    "        run = _experiment.run_experiment(M, K, N, T, B_min, B_max, sigma_m, simga_eps, \n",
    "                                         dm = dm, dk = dk, with_intercept = False, mu_gamma_factor = 0,\n",
    "                                         Sigma_gamma_factor = 'identity', Sigma_xm_factor = 1, Sigma_xk_factor = 1,\n",
    "                                         order = order, env_setting = \"NN\", save_prefix = 'NN',augment_size1 = 30,\n",
    "                                         NN_m = 14, NN_L = 3, NN_reg = 1, NN_nu = 1, exp_episode = 2)\n",
    "        r = run.run_multiple_parallel(100, 2)\n",
    "        run.plot_regret()\n",
    "        run.save(sub_folder = [\"M\", \"K\", \"N\", \"T\", \"dm\", \"dk\", \"sigma_m\",\"order\"])\n",
    "t = now() - t0"
   ]
  },
  {
   "cell_type": "code",
   "execution_count": null,
   "id": "e2ad4658-3b91-4071-891d-4264743d5002",
   "metadata": {},
   "outputs": [],
   "source": [
    "M = 100\n",
    "K = 10\n",
    "N = 50\n",
    "T = 50\n",
    "B_min = 20\n",
    "B_max = 30\n",
    "simga_eps = 1\n",
    "dm = 5\n",
    "dk = 6\n",
    "sigma_ms = [.5]\n",
    "\n",
    "t0 = now()\n",
    "sigma = 1\n",
    "order = \"concurrent\"\n",
    "for lr in [10**(-2)]:\n",
    "    for sigma_m in sigma_ms:\n",
    "        reload(_experiment)\n",
    "        run = _experiment.run_experiment(M, K, N, T, B_min, B_max, sigma_m, simga_eps, \n",
    "                                         dm = dm, dk = dk, with_intercept = False, mu_gamma_factor = 0,\n",
    "                                         Sigma_gamma_factor = 'identity', Sigma_xm_factor = 1, Sigma_xk_factor = 1,\n",
    "                                         order = order, env_setting = \"NN\", save_prefix = 'NN',augment_size1 = 30,\n",
    "                                         NN_m = 20, NN_L = 3, NN_reg = 1, NN_nu = 1, exp_episode = 2)\n",
    "        r = run.run_multiple_parallel(100, 2)\n",
    "        run.plot_regret()\n",
    "        run.save(sub_folder = [\"M\", \"K\", \"N\", \"T\", \"dm\", \"dk\", \"sigma_m\",\"order\"])\n",
    "t = now() - t0"
   ]
  }
 ],
 "metadata": {
  "kernelspec": {
   "display_name": "Python 3 (ipykernel)",
   "language": "python",
   "name": "python3"
  },
  "language_info": {
   "codemirror_mode": {
    "name": "ipython",
    "version": 3
   },
   "file_extension": ".py",
   "mimetype": "text/x-python",
   "name": "python",
   "nbconvert_exporter": "python",
   "pygments_lexer": "ipython3",
   "version": "3.9.7"
  }
 },
 "nbformat": 4,
 "nbformat_minor": 5
}
