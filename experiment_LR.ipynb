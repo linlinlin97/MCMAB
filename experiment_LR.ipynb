{
 "cells": [
  {
   "cell_type": "code",
   "execution_count": 1,
   "id": "222f9767-1440-45d0-8107-fc16281b083e",
   "metadata": {
    "tags": []
   },
   "outputs": [
    {
     "data": {
      "text/plain": [
       "<module '_experiment_NN_Copy1' from '/nas/longleaf/home/lge/ADA/_experiment_NN_Copy1.py'>"
      ]
     },
     "execution_count": 1,
     "metadata": {},
     "output_type": "execute_result"
    }
   ],
   "source": [
    "from _util import *\n",
    "os.environ[\"OMP_NUM_THREADS\"] = \"1\"\n",
    "os.environ[\"MKL_NUM_THREADS\"] = \"1\"\n",
    "os.environ[\"OPENBLAS_NUM_THREADS\"] = \"1\"\n",
    "os.environ[\"VECLIB_MAXIMUM_THREADS\"] = \"1\"\n",
    "os.environ[\"NUMEXPR_NUM_THREADS\"] = \"1\"\n",
    "\n",
    "import _experiment_NN_Copy1 as _experiment\n",
    "reload(_experiment)"
   ]
  },
  {
   "cell_type": "code",
   "execution_count": null,
   "id": "05bc2176-d6c1-42f5-8dd5-9f78c36bffb1",
   "metadata": {},
   "outputs": [],
   "source": [
    "M = 50\n",
    "K = 5\n",
    "N = 50\n",
    "T = 50\n",
    "B_min = 20\n",
    "B_max = 30\n",
    "simga_eps = 1\n",
    "dm = 3\n",
    "dk = 3\n",
    "sigma_ms = [.5, .75, 1, 1.25, 1.5]\n",
    "sigma_x = 1\n",
    "t0 = now()\n",
    "for order in [\"concurrent\", \"sequential\"]:\n",
    "    for sigma_m in sigma_ms:\n",
    "        reload(_experiment)\n",
    "        run = _experiment.run_experiment(M, K, N, T, B_min, B_max, sigma_m, sigma_eps, \n",
    "                                         dm = dm, dk = dk, with_intercept = True, mu_gamma_factor = 0,\n",
    "                                         Sigma_gamma_factor = 'identity', Sigma_xm_factor = sigma_x, Sigma_xk_factor = sigma_x,\n",
    "                                         log_log = False,augment_size1 = 30, augment_size2 = 100,\n",
    "                                         order = order, env_setting = \"LMM\", save_prefix = 'test', exp_episode = 2)\n",
    "        r = run.run_multiple_parallel(100,2)\n",
    "        run.plot_regret(plot_mean = True, ci = 95, skip_methods = [\"FD-budget-ind\",\"Hibou\"])\n",
    "        run.save(sub_folder = [\"M\", \"K\", \"N\", \"T\", \"dm\", \"dk\", \"sigma_m\",\"order\"])\n",
    "t = now() - t0"
   ]
  },
  {
   "cell_type": "code",
   "execution_count": null,
   "id": "cb9897e0-fabe-4f52-815e-f49e17bb94ae",
   "metadata": {},
   "outputs": [],
   "source": [
    "M = 50\n",
    "K = 5\n",
    "N = 50\n",
    "T = 50\n",
    "B_min = 20\n",
    "B_max = 30\n",
    "simga_eps = 1\n",
    "dm = 3\n",
    "dk = 3\n",
    "sigma_ms = [.75]\n",
    "sigma_x = 1\n",
    "t0 = now()\n",
    "order = \"concurrent\"\n",
    "for M in [5, 10, 20, 100]:\n",
    "    for sigma_m in sigma_ms:\n",
    "        reload(_experiment)\n",
    "        run = _experiment.run_experiment(M, K, N, T, B_min, B_max, sigma_m, sigma_eps, \n",
    "                                         dm = dm, dk = dk, with_intercept = True, mu_gamma_factor = 0,\n",
    "                                         Sigma_gamma_factor = 'identity', Sigma_xm_factor = sigma_x, Sigma_xk_factor = sigma_x,\n",
    "                                         log_log = False,augment_size1 = 30, augment_size2 = 100,\n",
    "                                         order = order, env_setting = \"LMM\", save_prefix = 'test', exp_episode = 2)\n",
    "        r = run.run_multiple_parallel(100,2)\n",
    "        run.plot_regret(plot_mean = True, ci = 95, skip_methods = [\"FD-budget-ind\",\"Hibou\"])\n",
    "        run.save(sub_folder = [\"M\", \"K\", \"N\", \"T\", \"dm\", \"dk\", \"sigma_m\",\"order\"])\n",
    "t = now() - t0"
   ]
  },
  {
   "cell_type": "code",
   "execution_count": null,
   "id": "2d19b41c-20ee-4092-8e88-0dbaac54a032",
   "metadata": {},
   "outputs": [],
   "source": [
    "M = 50\n",
    "K = 5\n",
    "N = 50\n",
    "T = 50\n",
    "B_min = 20\n",
    "B_max = 30\n",
    "simga_eps = 1\n",
    "dm = 3\n",
    "dk = 3\n",
    "sigma_ms = [.75]\n",
    "sigma_x = 1\n",
    "t0 = now()\n",
    "order = \"concurrent\"\n",
    "for K in [3, 5, 10]:\n",
    "    for sigma_m in sigma_ms:\n",
    "        reload(_experiment)\n",
    "        run = _experiment.run_experiment(M, K, N, T, B_min, B_max, sigma_m, sigma_eps, \n",
    "                                         dm = dm, dk = dk, with_intercept = True, mu_gamma_factor = 0,\n",
    "                                         Sigma_gamma_factor = 'identity', Sigma_xm_factor = sigma_x, Sigma_xk_factor = sigma_x,\n",
    "                                         log_log = False,augment_size1 = 30, augment_size2 = 100,\n",
    "                                         order = order, env_setting = \"LMM\", save_prefix = 'test', exp_episode = 2)\n",
    "        r = run.run_multiple_parallel(100,2)\n",
    "        run.plot_regret(plot_mean = True, ci = 95, skip_methods = [\"FD-budget-ind\",\"Hibou\"])\n",
    "        run.save(sub_folder = [\"M\", \"K\", \"N\", \"T\", \"dm\", \"dk\", \"sigma_m\",\"order\"])\n",
    "t = now() - t0"
   ]
  },
  {
   "cell_type": "code",
   "execution_count": null,
   "id": "856644a0-84d1-471e-bc06-c639b0d58cd6",
   "metadata": {},
   "outputs": [],
   "source": [
    "M = 50\n",
    "K = 5\n",
    "N = 50\n",
    "T = 50\n",
    "B_min = 20\n",
    "B_max = 30\n",
    "simga_eps = 1\n",
    "dm = 3\n",
    "dk = 3\n",
    "sigma_ms = [.75]\n",
    "sigma_x = 1\n",
    "t0 = now()\n",
    "order = \"concurrent\"\n",
    "for N in [10, 20, 50, 100]:\n",
    "    for sigma_m in sigma_ms:\n",
    "        reload(_experiment)\n",
    "        run = _experiment.run_experiment(M, K, N, T, B_min, B_max, sigma_m, sigma_eps, \n",
    "                                         dm = dm, dk = dk, with_intercept = True, mu_gamma_factor = 0,\n",
    "                                         Sigma_gamma_factor = 'identity', Sigma_xm_factor = sigma_x, Sigma_xk_factor = sigma_x,\n",
    "                                         log_log = False,augment_size1 = 30, augment_size2 = 100,\n",
    "                                         order = order, env_setting = \"LMM\", save_prefix = 'test', exp_episode = 2)\n",
    "        r = run.run_multiple_parallel(100,2)\n",
    "        run.plot_regret(plot_mean = True, ci = 95, skip_methods = [\"FD-budget-ind\",\"Hibou\"])\n",
    "        run.save(sub_folder = [\"M\", \"K\", \"N\", \"T\", \"dm\", \"dk\", \"sigma_m\",\"order\"])\n",
    "t = now() - t0"
   ]
  },
  {
   "cell_type": "code",
   "execution_count": null,
   "id": "2585fcff-66d0-413f-9960-f5ecb215913a",
   "metadata": {},
   "outputs": [],
   "source": [
    "M = 50\n",
    "K = 5\n",
    "N = 50\n",
    "T = 50\n",
    "B_min = 20\n",
    "B_max = 30\n",
    "simga_eps = 1\n",
    "dm = 3\n",
    "dk = 3\n",
    "sigma_ms = [.75]\n",
    "sigma_x = 1\n",
    "t0 = now()\n",
    "order = \"concurrent\"\n",
    "for d in [3, 10, 15]:\n",
    "    dm = dk = d\n",
    "    for sigma_m in sigma_ms:\n",
    "        reload(_experiment)\n",
    "        run = _experiment.run_experiment(M, K, N, T, B_min, B_max, sigma_m, sigma_eps, \n",
    "                                         dm = dm, dk = dk, with_intercept = True, mu_gamma_factor = 0,\n",
    "                                         Sigma_gamma_factor = 'identity', Sigma_xm_factor = sigma_x, Sigma_xk_factor = sigma_x,\n",
    "                                         log_log = False,augment_size1 = 30, augment_size2 = 100,\n",
    "                                         order = order, env_setting = \"LMM\", save_prefix = 'test', exp_episode = 2)\n",
    "        r = run.run_multiple_parallel(100,2)\n",
    "        run.plot_regret(plot_mean = True, ci = 95, skip_methods = [\"FD-budget-ind\",\"Hibou\"])\n",
    "        run.save(sub_folder = [\"M\", \"K\", \"N\", \"T\", \"dm\", \"dk\", \"sigma_m\",\"order\"])\n",
    "t = now() - t0"
   ]
  },
  {
   "cell_type": "code",
   "execution_count": null,
   "id": "863f0a73-3c43-4371-8e57-233fd61b9e2b",
   "metadata": {},
   "outputs": [],
   "source": [
    "M = 50\n",
    "K = 5\n",
    "N = 50\n",
    "T = 50\n",
    "B_min = 20\n",
    "B_max = 30\n",
    "simga_eps = 1\n",
    "dm = 3\n",
    "dk = 3\n",
    "sigma_ms = [.75]\n",
    "sigma_x = 1\n",
    "t0 = now()\n",
    "order = \"concurrent\"\n",
    "for sigma_eps in [.5, 1.5]:\n",
    "    for sigma_m in sigma_ms:\n",
    "        reload(_experiment)\n",
    "        run = _experiment.run_experiment(M, K, N, T, B_min, B_max, sigma_m, sigma_eps, \n",
    "                                         dm = dm, dk = dk, with_intercept = True, mu_gamma_factor = 0,\n",
    "                                         Sigma_gamma_factor = 'identity', Sigma_xm_factor = sigma_x, Sigma_xk_factor = sigma_x,\n",
    "                                         log_log = False,augment_size1 = 30, augment_size2 = 100,\n",
    "                                         order = order, env_setting = \"LMM\", save_prefix = 'test', exp_episode = 2)\n",
    "        r = run.run_multiple_parallel(100,2)\n",
    "        run.plot_regret(plot_mean = True, ci = 95, skip_methods = [\"FD-budget-ind\",\"Hibou\"])\n",
    "        run.save(sub_folder = [\"M\", \"K\", \"N\", \"T\", \"dm\", \"dk\", \"sigma_m\",\"order\"])\n",
    "t = now() - t0\n",
    "t"
   ]
  },
  {
   "cell_type": "code",
   "execution_count": null,
   "id": "b117e92e-f79d-40f1-ae7f-783881afed06",
   "metadata": {},
   "outputs": [],
   "source": []
  }
 ],
 "metadata": {
  "kernelspec": {
   "display_name": "Python 3 (ipykernel)",
   "language": "python",
   "name": "python3"
  },
  "language_info": {
   "codemirror_mode": {
    "name": "ipython",
    "version": 3
   },
   "file_extension": ".py",
   "mimetype": "text/x-python",
   "name": "python",
   "nbconvert_exporter": "python",
   "pygments_lexer": "ipython3",
   "version": "3.9.7"
  }
 },
 "nbformat": 4,
 "nbformat_minor": 5
}
