{
 "cells": [
  {
   "cell_type": "markdown",
   "id": "13808960",
   "metadata": {},
   "source": [
    "## MTB version [2023.11.23]"
   ]
  },
  {
   "cell_type": "code",
   "execution_count": 1,
   "id": "7ccb2fd1",
   "metadata": {
    "tags": []
   },
   "outputs": [
    {
     "data": {
      "text/plain": [
       "<module '_experiment' from '/nas/longleaf/home/lge/ADA/_experiment.py'>"
      ]
     },
     "execution_count": 1,
     "metadata": {},
     "output_type": "execute_result"
    }
   ],
   "source": [
    "from _util import *\n",
    "import pickle\n",
    "\n",
    "os.environ[\"OMP_NUM_THREADS\"] = \"1\"\n",
    "os.environ[\"MKL_NUM_THREADS\"] = \"1\"\n",
    "os.environ[\"OPENBLAS_NUM_THREADS\"] = \"1\"\n",
    "os.environ[\"VECLIB_MAXIMUM_THREADS\"] = \"1\"\n",
    "os.environ[\"NUMEXPR_NUM_THREADS\"] = \"1\"\n",
    "\n",
    "import _experiment as _experiment\n",
    "reload(_experiment)"
   ]
  },
  {
   "cell_type": "code",
   "execution_count": null,
   "id": "bcbae7ca-c6bd-4a59-b4d3-bcec95d77bae",
   "metadata": {},
   "outputs": [],
   "source": [
    "M = 50\n",
    "K = 5\n",
    "N = 50\n",
    "T = 50\n",
    "B_min = 20\n",
    "B_max = 30\n",
    "sigma_eps = 1\n",
    "dm = 1\n",
    "dk = 1\n",
    "kernel_gamma_factor = 1\n",
    "# maximum memory usage \n",
    "refresh_threshold = 2000\n",
    "\n",
    "\n",
    "def prior_f_mu_env(X):\n",
    "    return (abs(X)).sum(2)\n",
    "\n",
    "    \n",
    "# Sigma_xm_factor & Sigma_xk_factor should be smaller to give a larger feature signal\n",
    "Sigma_xm_factor = 1\n",
    "Sigma_xk_factor = 1\n",
    "# sigma_ms controls the size of random effects\n",
    "sigma_ms = [.25, .5, .75, 1]\n",
    "\n",
    "\n",
    "t0 = now()\n",
    "for order in [\"sequential\",\"concurrent\"]:\n",
    "    for sigma_m in sigma_ms:\n",
    "        reload(_experiment)\n",
    "        run = _experiment.run_experiment(M, K, N, T, B_min, B_max, sigma_m, sigma_eps, \n",
    "                                         dm = dm, dk = dk, with_intercept = False, mu_gamma_factor = 0,\n",
    "                                         Sigma_gamma_factor = \"identity\", \n",
    "                                         kernel_gamma_factor = kernel_gamma_factor, \n",
    "                                         Sigma_xm_factor = Sigma_xm_factor, \n",
    "                                         Sigma_xk_factor = Sigma_xk_factor,\n",
    "                                         order = order, env_setting = \"GP\", save_prefix = 'test',\n",
    "                                         refresh_memory = True, refresh_threshold = refresh_threshold,augment_size1 = 30,\n",
    "                                         prior_f_mu_env = prior_f_mu_env, cholesky_decomp = True, exp_episode = 2)\n",
    "        r = run.run_multiple_parallel(100,2)\n",
    "        run.plot_regret(plot_mean = True, ci = 95, skip_methods = [\"OSFA\"])\n",
    "        run.save(sub_folder = [\"M\", \"K\", \"N\", \"T\", \"dm\", \"dk\", \"sigma_m\"])\n",
    "t = now() - t0"
   ]
  },
  {
   "cell_type": "markdown",
   "id": "9c27b0c5-76de-4238-ae1d-ff85eee3e2f8",
   "metadata": {},
   "source": [
    "## GP performance vs d"
   ]
  },
  {
   "cell_type": "code",
   "execution_count": null,
   "id": "906e56e8-c9b6-4427-85f2-bfe67b2cea3d",
   "metadata": {},
   "outputs": [],
   "source": [
    "M = 50\n",
    "K = 5\n",
    "N = 50\n",
    "T = 50\n",
    "B_min = 20\n",
    "B_max = 30\n",
    "sigma_eps = 1\n",
    "dm = 1\n",
    "dk = 1\n",
    "kernel_gamma_factor = 1\n",
    "# maximum memory usage \n",
    "refresh_threshold = 200\n",
    "\n",
    "\n",
    "def prior_f_mu_env(X):\n",
    "    return (abs(X)).sum(2)\n",
    "\n",
    "    \n",
    "# Sigma_xm_factor & Sigma_xk_factor should be smaller to give a larger feature signal\n",
    "Sigma_xm_factor = 1\n",
    "Sigma_xk_factor = 1\n",
    "# sigma_ms controls the size of random effects\n",
    "sigma_ms = [.5]\n",
    "\n",
    "order = \"concurrent\"\n",
    "t0 = now()\n",
    "for d in [2,3]:\n",
    "    for sigma_m in sigma_ms:\n",
    "        reload(_experiment)\n",
    "        run = _experiment.run_experiment(M, K, N, T, B_min, B_max, sigma_m, sigma_eps, \n",
    "                                         dm = d, dk = d, with_intercept = False, mu_gamma_factor = 0,\n",
    "                                         Sigma_gamma_factor = \"identity\", \n",
    "                                         kernel_gamma_factor = kernel_gamma_factor, \n",
    "                                         Sigma_xm_factor = Sigma_xm_factor, \n",
    "                                         Sigma_xk_factor = Sigma_xk_factor,\n",
    "                                         order = order, env_setting = \"GP\", save_prefix = 'test',\n",
    "                                         refresh_memory = True, refresh_threshold = refresh_threshold,augment_size1 = 30,\n",
    "                                         prior_f_mu_env = prior_f_mu_env, cholesky_decomp = True, exp_episode = 2)\n",
    "        r = run.run_multiple_parallel(100,2)\n",
    "        run.plot_regret(plot_mean = True, ci = 95, skip_methods = [\"OSFA\"])\n",
    "        run.save(sub_folder = [\"M\", \"K\", \"N\", \"T\", \"dm\", \"dk\", \"sigma_m\"])\n",
    "t = now() - t0"
   ]
  },
  {
   "cell_type": "code",
   "execution_count": null,
   "id": "e8a98f6e-237d-4fa0-bd36-743cef929a47",
   "metadata": {},
   "outputs": [],
   "source": []
  }
 ],
 "metadata": {
  "kernelspec": {
   "display_name": "Python 3 (ipykernel)",
   "language": "python",
   "name": "python3"
  },
  "language_info": {
   "codemirror_mode": {
    "name": "ipython",
    "version": 3
   },
   "file_extension": ".py",
   "mimetype": "text/x-python",
   "name": "python",
   "nbconvert_exporter": "python",
   "pygments_lexer": "ipython3",
   "version": "3.9.7"
  }
 },
 "nbformat": 4,
 "nbformat_minor": 5
}
